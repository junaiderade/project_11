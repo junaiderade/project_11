{
 "cells": [
  {
   "cell_type": "code",
   "execution_count": 1,
   "id": "6bca11f0-954c-48bd-b4e6-4eed22986ffe",
   "metadata": {},
   "outputs": [
    {
     "name": "stderr",
     "output_type": "stream",
     "text": [
      "/var/folders/x4/dtlbm86n2hn1wc81hm0n369m0000gp/T/ipykernel_35419/835833801.py:3: DeprecationWarning: executable_path has been deprecated, please pass in a Service object\n",
      "  driver = webdriver.Chrome(Path)\n"
     ]
    }
   ],
   "source": [
    "from selenium import webdriver #this is what performs action\n",
    "Path = \"/Users/jumohamed/Downloads/chromedriver.exe\"\n",
    "driver = webdriver.Chrome(Path)"
   ]
  },
  {
   "cell_type": "code",
   "execution_count": 2,
   "id": "60ab1255-70d2-4830-89de-f48ffdd533da",
   "metadata": {},
   "outputs": [
    {
     "name": "stdout",
     "output_type": "stream",
     "text": [
      "Tech With Tim - Python & Java Programming Tutorials - techwithtim.net\n"
     ]
    }
   ],
   "source": [
    "driver.get(\"https://www.techwithtim.net/\")\n",
    "print(driver.title)"
   ]
  },
  {
   "cell_type": "code",
   "execution_count": null,
   "id": "e0581ad4-78af-4199-ad6a-cf9010fbb38f",
   "metadata": {},
   "outputs": [],
   "source": []
  },
  {
   "cell_type": "code",
   "execution_count": 3,
   "id": "02124799-1f61-4d86-8f2b-b0598ebaa80f",
   "metadata": {},
   "outputs": [],
   "source": [
    "driver.quit() #quit the app"
   ]
  }
 ],
 "metadata": {
  "kernelspec": {
   "display_name": "Python 3 (ipykernel)",
   "language": "python",
   "name": "python3"
  },
  "language_info": {
   "codemirror_mode": {
    "name": "ipython",
    "version": 3
   },
   "file_extension": ".py",
   "mimetype": "text/x-python",
   "name": "python",
   "nbconvert_exporter": "python",
   "pygments_lexer": "ipython3",
   "version": "3.9.13"
  }
 },
 "nbformat": 4,
 "nbformat_minor": 5
}
